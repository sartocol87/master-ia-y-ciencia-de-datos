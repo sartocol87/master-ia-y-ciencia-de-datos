{
 "cells": [
  {
   "cell_type": "markdown",
   "id": "ea65e901",
   "metadata": {},
   "source": [
    "esta es la prueba inicial"
   ]
  },
  {
   "cell_type": "code",
   "execution_count": 1,
   "id": "c3ae7c9f",
   "metadata": {},
   "outputs": [
    {
     "name": "stdout",
     "output_type": "stream",
     "text": [
      "hola mundo\n"
     ]
    }
   ],
   "source": [
    "print(\"hola mundo\")"
   ]
  },
  {
   "cell_type": "markdown",
   "id": "1033a2c5",
   "metadata": {},
   "source": [
    "ahcemos la segunda parte"
   ]
  },
  {
   "cell_type": "code",
   "execution_count": 2,
   "id": "31cf0916",
   "metadata": {},
   "outputs": [],
   "source": [
    "x = 5\n",
    "y = 5"
   ]
  },
  {
   "cell_type": "code",
   "execution_count": 3,
   "id": "2ef64b0c",
   "metadata": {},
   "outputs": [
    {
     "name": "stdout",
     "output_type": "stream",
     "text": [
      "10\n"
     ]
    }
   ],
   "source": [
    "print(x+y)"
   ]
  },
  {
   "cell_type": "markdown",
   "id": "1fd95154",
   "metadata": {},
   "source": [
    "ahora probamos la actualizacion"
   ]
  }
 ],
 "metadata": {
  "kernelspec": {
   "display_name": "base",
   "language": "python",
   "name": "python3"
  },
  "language_info": {
   "codemirror_mode": {
    "name": "ipython",
    "version": 3
   },
   "file_extension": ".py",
   "mimetype": "text/x-python",
   "name": "python",
   "nbconvert_exporter": "python",
   "pygments_lexer": "ipython3",
   "version": "3.12.7"
  }
 },
 "nbformat": 4,
 "nbformat_minor": 5
}
